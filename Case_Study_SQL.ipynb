{
  "nbformat": 4,
  "nbformat_minor": 0,
  "metadata": {
    "colab": {
      "provenance": []
    },
    "kernelspec": {
      "name": "python3",
      "display_name": "Python 3"
    },
    "language_info": {
      "name": "python"
    }
  },
  "cells": [
    {
      "cell_type": "markdown",
      "source": [
        "# Case Study on SQL\n"
      ],
      "metadata": {
        "id": "WEiBwlhgYtYx"
      }
    },
    {
      "cell_type": "code",
      "source": [
        "import sqlite3\n",
        "import pandas as pd"
      ],
      "metadata": {
        "id": "Q6xrAf0CgwyW"
      },
      "execution_count": 129,
      "outputs": []
    },
    {
      "cell_type": "code",
      "source": [
        "def load_imdb_database(db_path):\n",
        "  try:\n",
        "    conn = sqlite3.connect(db_path)\n",
        "    print(\"IMDB database loaded successfully.\")\n",
        "    return conn\n",
        "  except sqlite3.Error as e:\n",
        "    print(f\"Error loading IMDB database: {e}\")\n",
        "    return None"
      ],
      "metadata": {
        "id": "YOO65TNTg7fg"
      },
      "execution_count": 130,
      "outputs": []
    },
    {
      "cell_type": "code",
      "execution_count": 131,
      "metadata": {
        "colab": {
          "base_uri": "https://localhost:8080/"
        },
        "id": "-0Th69XEghxi",
        "outputId": "d2e93bfa-6854-40dd-cfd7-6c6871446d01"
      },
      "outputs": [
        {
          "output_type": "stream",
          "name": "stdout",
          "text": [
            "IMDB database loaded successfully.\n",
            "Connection successful\n"
          ]
        }
      ],
      "source": [
        "db_path = \"imdb.db\"\n",
        "conn = load_imdb_database(db_path)\n",
        "\n",
        "if conn:\n",
        "  print(\"Connection successful\")\n",
        "  cursor = conn.cursor()"
      ]
    },
    {
      "cell_type": "markdown",
      "source": [
        "## Following is the schema of the IMDB database. It lists all tables and their schemas.\n",
        "\n"
      ],
      "metadata": {
        "id": "OyMdDsyWakEL"
      }
    },
    {
      "cell_type": "code",
      "source": [
        "cursor.execute(\"SELECT name FROM sqlite_master WHERE type='table';\")\n",
        "tables = cursor.fetchall()\n",
        "\n",
        "print(\"Database Schema:\")\n",
        "for table in tables:\n",
        "    table_name = table[0]\n",
        "    print(f\"\\nTable: {table_name}\")\n",
        "\n",
        "    cursor.execute(f\"PRAGMA table_info({table_name});\")\n",
        "    schema = cursor.fetchall()\n",
        "\n",
        "    print(\"Columns:\")\n",
        "    for column in schema:\n",
        "        cid, name, dtype, notnull, dflt_value, pk = column\n",
        "        print(f\"  - {name} ({dtype}), NOT NULL: {bool(notnull)}, Default: {dflt_value}, Primary Key: {bool(pk)}\")"
      ],
      "metadata": {
        "colab": {
          "base_uri": "https://localhost:8080/"
        },
        "id": "QHglU6mobmV3",
        "outputId": "ce3b0085-071b-4f32-ebca-2eb0b92effec"
      },
      "execution_count": 132,
      "outputs": [
        {
          "output_type": "stream",
          "name": "stdout",
          "text": [
            "Database Schema:\n",
            "\n",
            "Table: Movie\n",
            "Columns:\n",
            "  - index (INTEGER), NOT NULL: False, Default: None, Primary Key: False\n",
            "  - MID (TEXT), NOT NULL: False, Default: None, Primary Key: False\n",
            "  - title (TEXT), NOT NULL: False, Default: None, Primary Key: False\n",
            "  - year (TEXT), NOT NULL: False, Default: None, Primary Key: False\n",
            "  - rating (REAL), NOT NULL: False, Default: None, Primary Key: False\n",
            "  - num_votes (INTEGER), NOT NULL: False, Default: None, Primary Key: False\n",
            "\n",
            "Table: Genre\n",
            "Columns:\n",
            "  - index (INTEGER), NOT NULL: False, Default: None, Primary Key: False\n",
            "  - Name (TEXT), NOT NULL: False, Default: None, Primary Key: False\n",
            "  - GID (INTEGER), NOT NULL: False, Default: None, Primary Key: False\n",
            "\n",
            "Table: Language\n",
            "Columns:\n",
            "  - index (INTEGER), NOT NULL: False, Default: None, Primary Key: False\n",
            "  - Name (TEXT), NOT NULL: False, Default: None, Primary Key: False\n",
            "  - LAID (INTEGER), NOT NULL: False, Default: None, Primary Key: False\n",
            "\n",
            "Table: Country\n",
            "Columns:\n",
            "  - index (INTEGER), NOT NULL: False, Default: None, Primary Key: False\n",
            "  - Name (TEXT), NOT NULL: False, Default: None, Primary Key: False\n",
            "  - CID (INTEGER), NOT NULL: False, Default: None, Primary Key: False\n",
            "\n",
            "Table: Location\n",
            "Columns:\n",
            "  - index (INTEGER), NOT NULL: False, Default: None, Primary Key: False\n",
            "  - Name (TEXT), NOT NULL: False, Default: None, Primary Key: False\n",
            "  - LID (INTEGER), NOT NULL: False, Default: None, Primary Key: False\n",
            "\n",
            "Table: M_Location\n",
            "Columns:\n",
            "  - index (INTEGER), NOT NULL: False, Default: None, Primary Key: False\n",
            "  - MID (TEXT), NOT NULL: False, Default: None, Primary Key: False\n",
            "  - LID (REAL), NOT NULL: False, Default: None, Primary Key: False\n",
            "  - ID (INTEGER), NOT NULL: False, Default: None, Primary Key: False\n",
            "\n",
            "Table: M_Country\n",
            "Columns:\n",
            "  - index (INTEGER), NOT NULL: False, Default: None, Primary Key: False\n",
            "  - MID (TEXT), NOT NULL: False, Default: None, Primary Key: False\n",
            "  - CID (REAL), NOT NULL: False, Default: None, Primary Key: False\n",
            "  - ID (INTEGER), NOT NULL: False, Default: None, Primary Key: False\n",
            "\n",
            "Table: M_Language\n",
            "Columns:\n",
            "  - index (INTEGER), NOT NULL: False, Default: None, Primary Key: False\n",
            "  - MID (TEXT), NOT NULL: False, Default: None, Primary Key: False\n",
            "  - LAID (INTEGER), NOT NULL: False, Default: None, Primary Key: False\n",
            "  - ID (INTEGER), NOT NULL: False, Default: None, Primary Key: False\n",
            "\n",
            "Table: M_Genre\n",
            "Columns:\n",
            "  - index (INTEGER), NOT NULL: False, Default: None, Primary Key: False\n",
            "  - MID (TEXT), NOT NULL: False, Default: None, Primary Key: False\n",
            "  - GID (INTEGER), NOT NULL: False, Default: None, Primary Key: False\n",
            "  - ID (INTEGER), NOT NULL: False, Default: None, Primary Key: False\n",
            "\n",
            "Table: Person\n",
            "Columns:\n",
            "  - index (INTEGER), NOT NULL: False, Default: None, Primary Key: False\n",
            "  - PID (TEXT), NOT NULL: False, Default: None, Primary Key: False\n",
            "  - Name (TEXT), NOT NULL: False, Default: None, Primary Key: False\n",
            "  - Gender (TEXT), NOT NULL: False, Default: None, Primary Key: False\n",
            "\n",
            "Table: M_Producer\n",
            "Columns:\n",
            "  - index (INTEGER), NOT NULL: False, Default: None, Primary Key: False\n",
            "  - MID (TEXT), NOT NULL: False, Default: None, Primary Key: False\n",
            "  - PID (TEXT), NOT NULL: False, Default: None, Primary Key: False\n",
            "  - ID (INTEGER), NOT NULL: False, Default: None, Primary Key: False\n",
            "\n",
            "Table: M_Director\n",
            "Columns:\n",
            "  - index (INTEGER), NOT NULL: False, Default: None, Primary Key: False\n",
            "  - MID (TEXT), NOT NULL: False, Default: None, Primary Key: False\n",
            "  - PID (TEXT), NOT NULL: False, Default: None, Primary Key: False\n",
            "  - ID (INTEGER), NOT NULL: False, Default: None, Primary Key: False\n",
            "\n",
            "Table: M_Cast\n",
            "Columns:\n",
            "  - index (INTEGER), NOT NULL: False, Default: None, Primary Key: False\n",
            "  - MID (TEXT), NOT NULL: False, Default: None, Primary Key: False\n",
            "  - PID (TEXT), NOT NULL: False, Default: None, Primary Key: False\n",
            "  - ID (INTEGER), NOT NULL: False, Default: None, Primary Key: False\n"
          ]
        }
      ]
    },
    {
      "cell_type": "markdown",
      "source": [
        "# Write SQL queries for the following questions"
      ],
      "metadata": {
        "id": "At0HJhxwcWMV"
      }
    },
    {
      "cell_type": "markdown",
      "source": [
        "## 1. Write query to list first 5 rows of Person table\n",
        "\n",
        "\n",
        "\n"
      ],
      "metadata": {
        "id": "cHeY-4I-Y1Go"
      }
    },
    {
      "cell_type": "code",
      "source": [
        "q1 = \"\"\"select * from Person LIMIT 5\"\"\""
      ],
      "metadata": {
        "id": "yTksEs_JHuK8"
      },
      "execution_count": 84,
      "outputs": []
    },
    {
      "cell_type": "code",
      "source": [
        "def q1_grader(q1):\n",
        "  result = pd.read_sql_query(q1, conn)\n",
        "  return result.shape == (5, 4)\n",
        "print(q1_grader(q1))"
      ],
      "metadata": {
        "colab": {
          "base_uri": "https://localhost:8080/"
        },
        "id": "19rLGemCcoak",
        "outputId": "b7d2626b-1977-4602-f7f5-5822e5314d12"
      },
      "execution_count": 85,
      "outputs": [
        {
          "output_type": "stream",
          "name": "stdout",
          "text": [
            "True\n"
          ]
        }
      ]
    },
    {
      "cell_type": "markdown",
      "source": [
        "## 2. Write query to select title, year and rating from Movie table"
      ],
      "metadata": {
        "id": "Cmuvp9h7dZWu"
      }
    },
    {
      "cell_type": "code",
      "source": [
        "q2 = \"\"\"select title, year, rating from Movie\"\"\""
      ],
      "metadata": {
        "id": "g7MI-hJycPtn"
      },
      "execution_count": 28,
      "outputs": []
    },
    {
      "cell_type": "code",
      "source": [
        "def q2_grader(q2):\n",
        "  result = pd.read_sql_query(q2,conn)\n",
        "  return result.shape == (3473, 3) and result['title'][0]=='Mowgli'\n",
        "print(q2_grader(q2))"
      ],
      "metadata": {
        "colab": {
          "base_uri": "https://localhost:8080/"
        },
        "id": "gyk9b2uvd5O6",
        "outputId": "9a82e3a7-9a65-4895-e666-6e2db933f8ab"
      },
      "execution_count": 29,
      "outputs": [
        {
          "output_type": "stream",
          "name": "stdout",
          "text": [
            "True\n"
          ]
        }
      ]
    },
    {
      "cell_type": "markdown",
      "source": [
        "## 3. Write query to get title of first movie in movie table sorted by year in ascending order\n"
      ],
      "metadata": {
        "id": "EvD979LNeaFm"
      }
    },
    {
      "cell_type": "code",
      "source": [
        "q3 = \"\"\"select title from movie ORDER BY year asc LIMIT 1\"\"\""
      ],
      "metadata": {
        "id": "noFVuK27eczz"
      },
      "execution_count": 34,
      "outputs": []
    },
    {
      "cell_type": "code",
      "source": [
        "def q3_grader(q3):\n",
        "  result = pd.read_sql_query(q3, conn)\n",
        "  return result['title']=='Alam Ara'\n",
        "print(q3_grader(q3))"
      ],
      "metadata": {
        "colab": {
          "base_uri": "https://localhost:8080/"
        },
        "id": "jpGuMnkveeU5",
        "outputId": "9ced2a98-09e7-4990-9767-cae058e3924c"
      },
      "execution_count": 35,
      "outputs": [
        {
          "output_type": "stream",
          "name": "stdout",
          "text": [
            "0    True\n",
            "Name: title, dtype: bool\n"
          ]
        }
      ]
    },
    {
      "cell_type": "markdown",
      "source": [
        "## 4. Write query to get the very first year in which Devdas movie was released"
      ],
      "metadata": {
        "id": "ZQVPvM8qgl3k"
      }
    },
    {
      "cell_type": "code",
      "source": [
        "q4 = \"\"\"select year from movie WHERE title='Devdas' ORDER BY year asc LIMIT 1 \"\"\""
      ],
      "metadata": {
        "id": "DbvKV1XXgmd9"
      },
      "execution_count": 36,
      "outputs": []
    },
    {
      "cell_type": "code",
      "source": [
        "def q4_grader(q4):\n",
        "  result = pd.read_sql_query(q4, conn)\n",
        "  return result['year']=='1936'\n",
        "print(q4_grader(q4))"
      ],
      "metadata": {
        "colab": {
          "base_uri": "https://localhost:8080/"
        },
        "id": "SJWlc4gCg6Gn",
        "outputId": "0de86809-6d42-4bfa-ce3b-c07cbcb61024"
      },
      "execution_count": 37,
      "outputs": [
        {
          "output_type": "stream",
          "name": "stdout",
          "text": [
            "0    True\n",
            "Name: year, dtype: bool\n"
          ]
        }
      ]
    },
    {
      "cell_type": "markdown",
      "source": [
        "## 5. Write query to get the number of movies released in 2018"
      ],
      "metadata": {
        "id": "sLHeXz_siuSW"
      }
    },
    {
      "cell_type": "code",
      "source": [
        "q5 = \"\"\"select COUNT(title) from movie where year=2018\"\"\""
      ],
      "metadata": {
        "id": "fErMDcrFiuzw"
      },
      "execution_count": 38,
      "outputs": []
    },
    {
      "cell_type": "code",
      "source": [
        "def q5_grader(q5):\n",
        "  result = pd.read_sql_query(q5, conn)\n",
        "  return result.iloc[0, 0] == 93\n",
        "print(q5_grader(q5))"
      ],
      "metadata": {
        "colab": {
          "base_uri": "https://localhost:8080/"
        },
        "id": "mV2gadLKi6ow",
        "outputId": "43090bbe-0aa9-40f1-e8be-9d1bc0dd3b4d"
      },
      "execution_count": 39,
      "outputs": [
        {
          "output_type": "stream",
          "name": "stdout",
          "text": [
            "True\n"
          ]
        }
      ]
    },
    {
      "cell_type": "markdown",
      "source": [
        "## 6. Write query to get the title of the movie with most number of votes in 2012"
      ],
      "metadata": {
        "id": "95Y3MGgsndph"
      }
    },
    {
      "cell_type": "code",
      "source": [
        "q6 = \"\"\"select title from movie where year=2012 ORDER BY num_votes desc LIMIT 1\"\"\""
      ],
      "metadata": {
        "id": "SK-BCCy2j2tz"
      },
      "execution_count": 42,
      "outputs": []
    },
    {
      "cell_type": "code",
      "source": [
        "def q6_grader(q6):\n",
        "  result = pd.read_sql_query(q6, conn)\n",
        "  return result[\"title\"]==\"The Avengers\"\n",
        "print(q6_grader(q6))"
      ],
      "metadata": {
        "colab": {
          "base_uri": "https://localhost:8080/"
        },
        "id": "1s8NPuftj6kO",
        "outputId": "2779e14f-6d70-4afa-a30c-545a4cb53ac3"
      },
      "execution_count": 43,
      "outputs": [
        {
          "output_type": "stream",
          "name": "stdout",
          "text": [
            "0    True\n",
            "Name: title, dtype: bool\n"
          ]
        }
      ]
    },
    {
      "cell_type": "markdown",
      "source": [
        "## 7. Write SQL query to find all the unique movie titles released in 2018"
      ],
      "metadata": {
        "id": "anmreTN2zRzL"
      }
    },
    {
      "cell_type": "code",
      "source": [
        "q7 = \"\"\"select DISTINCT(title) from movie where year=2018\"\"\""
      ],
      "metadata": {
        "id": "T3gG0QsPzSQz"
      },
      "execution_count": 44,
      "outputs": []
    },
    {
      "cell_type": "code",
      "source": [
        "def q7_grader(q7):\n",
        "  result = pd.read_sql_query(q7, conn)\n",
        "  return result.shape==(93, 1)\n",
        "print(q7_grader(q7))"
      ],
      "metadata": {
        "colab": {
          "base_uri": "https://localhost:8080/"
        },
        "id": "ndp9snvBz0U5",
        "outputId": "273b0fcd-16d5-4d0e-a859-bb773d4969c9"
      },
      "execution_count": 45,
      "outputs": [
        {
          "output_type": "stream",
          "name": "stdout",
          "text": [
            "True\n"
          ]
        }
      ]
    },
    {
      "cell_type": "markdown",
      "source": [
        "## 8. Write SQL query to get total number of movies released between 2017 (inclusive) and 2018 (inclusive)"
      ],
      "metadata": {
        "id": "TZEjK38M1Q8q"
      }
    },
    {
      "cell_type": "code",
      "source": [
        "q8 = \"\"\"select COUNT(title) from movie where year BETWEEN '2017' and '2018'\"\"\""
      ],
      "metadata": {
        "id": "vXz5lPZ80j3-"
      },
      "execution_count": 52,
      "outputs": []
    },
    {
      "cell_type": "code",
      "source": [
        "def q8_grader(q8):\n",
        "  result = pd.read_sql_query(q8, conn)\n",
        "  return result.iloc[0, 0] == 211\n",
        "print(q8_grader(q8))"
      ],
      "metadata": {
        "colab": {
          "base_uri": "https://localhost:8080/"
        },
        "id": "p9wXgEae02ZV",
        "outputId": "5f491a1b-f8d7-4f3c-88f9-f72bc53c06ef"
      },
      "execution_count": 53,
      "outputs": [
        {
          "output_type": "stream",
          "name": "stdout",
          "text": [
            "True\n"
          ]
        }
      ]
    },
    {
      "cell_type": "markdown",
      "source": [
        "## 9. Write SQL query to find the year in which maximum number of movies released"
      ],
      "metadata": {
        "id": "L7WKxoUU3Ai6"
      }
    },
    {
      "cell_type": "code",
      "source": [
        "q9 = \"\"\"select year, COUNT(*) title from movie GROUP BY year ORDER BY title DESC LIMIT 1 \"\"\""
      ],
      "metadata": {
        "id": "fktY0SbY1qSA"
      },
      "execution_count": 64,
      "outputs": []
    },
    {
      "cell_type": "code",
      "source": [
        "def q9_grader(q9):\n",
        "  result = pd.read_sql_query(q9, conn)\n",
        "  return result[\"year\"][0]==\"2005\"\n",
        "print(q9_grader(q9))"
      ],
      "metadata": {
        "colab": {
          "base_uri": "https://localhost:8080/"
        },
        "id": "yiYfQr1R13As",
        "outputId": "2897b217-f42b-43bf-fdee-748d99d1020e"
      },
      "execution_count": 65,
      "outputs": [
        {
          "output_type": "stream",
          "name": "stdout",
          "text": [
            "True\n"
          ]
        }
      ]
    },
    {
      "cell_type": "markdown",
      "source": [
        "## 10. Write SQL query to find the title of the movie with rating>9.5 and number of votes > 90"
      ],
      "metadata": {
        "id": "dP2eLdzq7lBM"
      }
    },
    {
      "cell_type": "code",
      "source": [
        "q10 = \"\"\"select title from movie where rating>9.5 and num_votes>90\"\"\""
      ],
      "metadata": {
        "id": "DUCNjcQM3VG-"
      },
      "execution_count": 66,
      "outputs": []
    },
    {
      "cell_type": "code",
      "source": [
        "def q10_grader(q10):\n",
        "  result = pd.read_sql_query(q10, conn)\n",
        "  return result[\"title\"][0]==\"Man on Mission Fauladi\"\n",
        "print(q10_grader(q10))"
      ],
      "metadata": {
        "colab": {
          "base_uri": "https://localhost:8080/"
        },
        "id": "njqsiZo-3e6o",
        "outputId": "5a1b6b24-60a2-41a6-8dd6-b0cd10a0b5da"
      },
      "execution_count": 67,
      "outputs": [
        {
          "output_type": "stream",
          "name": "stdout",
          "text": [
            "True\n"
          ]
        }
      ]
    },
    {
      "cell_type": "markdown",
      "source": [
        "## 11. Write SQL query to find the number of movies which has the word 'Dilwale' in their title"
      ],
      "metadata": {
        "id": "7Ov94gw_949N"
      }
    },
    {
      "cell_type": "code",
      "source": [
        "q11 = \"\"\"select COUNT(title) from movie where title LIKE 'Dilwale%'\"\"\""
      ],
      "metadata": {
        "id": "9T5y3B1z8H4v"
      },
      "execution_count": 70,
      "outputs": []
    },
    {
      "cell_type": "code",
      "source": [
        "def q11_grader(q11):\n",
        "  result = pd.read_sql_query(q11, conn)\n",
        "  return result.iloc[0, 0] == 4\n",
        "print(q11_grader(q11))"
      ],
      "metadata": {
        "colab": {
          "base_uri": "https://localhost:8080/"
        },
        "id": "gvtXmjaz8lfg",
        "outputId": "e7f985a9-0fdd-45db-9b26-0e94f0ccbd3b"
      },
      "execution_count": 71,
      "outputs": [
        {
          "output_type": "stream",
          "name": "stdout",
          "text": [
            "True\n"
          ]
        }
      ]
    },
    {
      "cell_type": "markdown",
      "source": [
        "## 12. Write nested SQL query to find the CID of country which produced most number of movies"
      ],
      "metadata": {
        "id": "5PaMaYb6AwgQ"
      }
    },
    {
      "cell_type": "code",
      "source": [
        "q12 =\"\"\"select T2.CID from Movie AS T1\n",
        "INNER JOIN M_Country AS T2 ON T1.MID  =  T2.MID\n",
        "GROUP BY T2.CID ORDER BY COUNT(T1.MID) DESC LIMIT 1\"\"\"\n"
      ],
      "metadata": {
        "id": "Ey1GZDoG-t2n"
      },
      "execution_count": 78,
      "outputs": []
    },
    {
      "cell_type": "code",
      "source": [
        "def q12_grader(q12):\n",
        "  result = pd.read_sql_query(q12, conn)\n",
        "  return result.iloc[0]==2.0\n",
        "print(q12_grader(q12))"
      ],
      "metadata": {
        "colab": {
          "base_uri": "https://localhost:8080/"
        },
        "id": "5gHU4XQO-0E-",
        "outputId": "ddffb450-e4cf-4fa9-adca-4027a3642ae8"
      },
      "execution_count": 79,
      "outputs": [
        {
          "output_type": "stream",
          "name": "stdout",
          "text": [
            "CID    True\n",
            "Name: 0, dtype: bool\n"
          ]
        }
      ]
    },
    {
      "cell_type": "markdown",
      "source": [
        "## 13. Write nested SQL query to the country which produced most number of movies (use both Courty table and M_Country table)"
      ],
      "metadata": {
        "id": "F0E3Nw4nD7ux"
      }
    },
    {
      "cell_type": "code",
      "source": [
        "q13 = \"\"\"SELECT C.Name\n",
        "FROM Country AS C\n",
        "INNER JOIN M_Country AS MC ON C.CID = MC.CID\n",
        "GROUP BY C.Name ORDER BY COUNT(MC.MID) DESC LIMIT 1\"\"\""
      ],
      "metadata": {
        "id": "kJaN-L9aBY4Q"
      },
      "execution_count": 98,
      "outputs": []
    },
    {
      "cell_type": "code",
      "source": [
        "def q13_grader(q13):\n",
        "  result = pd.read_sql_query(q13, conn)\n",
        "  return result.iloc[0, 0] == \"India\"\n",
        "print(q13_grader(q13))"
      ],
      "metadata": {
        "colab": {
          "base_uri": "https://localhost:8080/"
        },
        "id": "L8JOMcpjBqZo",
        "outputId": "e7b7ef95-38fd-4fc2-cf0e-4fdb4be6f312"
      },
      "execution_count": 99,
      "outputs": [
        {
          "output_type": "stream",
          "name": "stdout",
          "text": [
            "True\n"
          ]
        }
      ]
    },
    {
      "cell_type": "markdown",
      "source": [
        "## 14. Write SQL query to get the year and number of movies per year having number of movies per year is greater than 100"
      ],
      "metadata": {
        "id": "OHcgp0uCF003"
      }
    },
    {
      "cell_type": "code",
      "source": [
        "q14 = \"\"\"select year,COUNT(title) from movie GROUP BY year HAVING COUNT(title) > 100\"\"\""
      ],
      "metadata": {
        "id": "AmIL0LgMENl_"
      },
      "execution_count": 88,
      "outputs": []
    },
    {
      "cell_type": "code",
      "source": [
        "def q14_grader(q14):\n",
        "  result = pd.read_sql_query(q14, conn)\n",
        "  return result.shape==(13,2)\n",
        "print(q14_grader(q14))"
      ],
      "metadata": {
        "colab": {
          "base_uri": "https://localhost:8080/"
        },
        "id": "RWWaEwJtE6Uj",
        "outputId": "d28e5ab1-2e0c-49e0-ea9e-653280f0d251"
      },
      "execution_count": 89,
      "outputs": [
        {
          "output_type": "stream",
          "name": "stdout",
          "text": [
            "True\n"
          ]
        }
      ]
    },
    {
      "cell_type": "markdown",
      "source": [
        "## 15. Write SQL query to get the Name and Language ID (LAID) corresponding to Malayalam language"
      ],
      "metadata": {
        "id": "LcrzqodqG-Ae"
      }
    },
    {
      "cell_type": "code",
      "source": [
        "q15 = \"\"\"select Name,LAID from Language where Name='Malayalam'\"\"\""
      ],
      "metadata": {
        "id": "mZ7EH8emGXJg"
      },
      "execution_count": 86,
      "outputs": []
    },
    {
      "cell_type": "code",
      "source": [
        "def q15_grader(q15):\n",
        "  result = pd.read_sql_query(q15, conn)\n",
        "  print(result)\n",
        "  return result[[\"Name\", \"LAID\"]].values.tolist() == [['Malayalam', 19]]\n",
        "print(q15_grader(q15))"
      ],
      "metadata": {
        "colab": {
          "base_uri": "https://localhost:8080/"
        },
        "id": "rVRZJXwoGcdX",
        "outputId": "11deca1e-92ba-4977-c23d-5e7caee7956e"
      },
      "execution_count": 87,
      "outputs": [
        {
          "output_type": "stream",
          "name": "stdout",
          "text": [
            "        Name  LAID\n",
            "0  Malayalam    19\n",
            "True\n"
          ]
        }
      ]
    },
    {
      "cell_type": "markdown",
      "source": [
        "## 16. Write SQL query to do inner join with movie table and M_Language table with MID colums"
      ],
      "metadata": {
        "id": "DvPnI7MDJVoT"
      }
    },
    {
      "cell_type": "code",
      "source": [
        "q16 = \"\"\"SELECT M.*,MD.*\n",
        "FROM movie M\n",
        "INNER JOIN M_Language MD ON M.MID = MD.MID\"\"\""
      ],
      "metadata": {
        "id": "ZPO83_w1Hxco"
      },
      "execution_count": 133,
      "outputs": []
    },
    {
      "cell_type": "code",
      "source": [
        "def q16_grader(q16):\n",
        "  result = pd.read_sql_query(q16, conn)\n",
        "  return result\n",
        "print(q16_grader(q16))"
      ],
      "metadata": {
        "colab": {
          "base_uri": "https://localhost:8080/"
        },
        "id": "S89KrFeQIWuv",
        "outputId": "d8968d9c-fe2c-4e25-8581-d4344aa34025"
      },
      "execution_count": 134,
      "outputs": [
        {
          "output_type": "stream",
          "name": "stdout",
          "text": [
            "      index        MID          title  year  rating  num_votes  index  \\\n",
            "0         0  tt2388771         Mowgli  2018     6.6      21967      0   \n",
            "1         1  tt5164214  Ocean's Eight  2018     6.2     110861      1   \n",
            "2         2  tt1365519    Tomb Raider  2018     6.4     142585      2   \n",
            "3         3  tt0848228   The Avengers  2012     8.1    1137529      3   \n",
            "4         4  tt8239946        Tumbbad  2018     8.5       7483      4   \n",
            "...     ...        ...            ...   ...     ...        ...    ...   \n",
            "3468   3470  tt0090611    Allah-Rakha  1986     6.2         96   3470   \n",
            "3469   3471  tt0106270          Anari  1993     4.7        301   3471   \n",
            "3470   3472  tt0852989  Come December  2006     5.7         57   3472   \n",
            "3471   3473  tt0375882     Kala Jigar  1939     3.3        174   3473   \n",
            "3472   3474  tt0375890         Kanoon  1994     3.2        103   3474   \n",
            "\n",
            "            MID  LAID    ID  \n",
            "0     tt2388771     0     0  \n",
            "1     tt5164214     0     1  \n",
            "2     tt1365519     0     2  \n",
            "3     tt0848228     0     3  \n",
            "4     tt8239946     1     4  \n",
            "...         ...   ...   ...  \n",
            "3468  tt0090611     2  3470  \n",
            "3469  tt0106270     2  3471  \n",
            "3470  tt0852989     2  3472  \n",
            "3471  tt0375882     2  3473  \n",
            "3472  tt0375890     2  3474  \n",
            "\n",
            "[3473 rows x 10 columns]\n"
          ]
        }
      ]
    },
    {
      "cell_type": "markdown",
      "source": [
        "## 17. Write SQL query to list title, year and rating of malayalam movies in the database by doing an inner join with movie table and M_Language table with MID column, also assuming language ID of malayalam movies as 19"
      ],
      "metadata": {
        "id": "vhF0SQu5Lthd"
      }
    },
    {
      "cell_type": "code",
      "source": [
        "q17 = \"\"\"select M.year,M.title,M.rating from movie M\n",
        "INNER JOIN M_Language MD on M.MID=MD.MID\n",
        "where MD.LAID=19\"\"\""
      ],
      "metadata": {
        "id": "yHB7KI-wKw3p"
      },
      "execution_count": 137,
      "outputs": []
    },
    {
      "cell_type": "code",
      "source": [
        "def q17_grader(q17):\n",
        "  result = pd.read_sql_query(q17, conn)\n",
        "  return result.shape==(16,3)\n",
        "print(q17_grader(q17))"
      ],
      "metadata": {
        "colab": {
          "base_uri": "https://localhost:8080/"
        },
        "id": "Ji5W5cemLX0a",
        "outputId": "80eb3467-3001-4acf-dd6e-703a912fa34c"
      },
      "execution_count": 138,
      "outputs": [
        {
          "output_type": "stream",
          "name": "stdout",
          "text": [
            "True\n"
          ]
        }
      ]
    },
    {
      "cell_type": "code",
      "source": [
        "![ -f academic.db ] && rm academic.db\n",
        "\n",
        "conn = sqlite3.connect(\"academic.db\")\n",
        "cursor = conn.cursor()"
      ],
      "metadata": {
        "id": "GhjTNuPwqO7z"
      },
      "execution_count": 139,
      "outputs": []
    },
    {
      "cell_type": "markdown",
      "source": [
        "## 18. Write SQL query to Create a table named students with two columns id (integer type) and name (varchar type)"
      ],
      "metadata": {
        "id": "aH8Y1PS9OZyj"
      }
    },
    {
      "cell_type": "code",
      "source": [
        "q18a = \"\"\"CREATE TABLE students (\n",
        "    id INTEGER PRIMARY KEY NOT NULL,\n",
        "    name VARCHAR(50)NOT NULL)\"\"\""
      ],
      "metadata": {
        "id": "TsaafyrxIYFd"
      },
      "execution_count": 140,
      "outputs": []
    },
    {
      "cell_type": "code",
      "source": [
        "def q18_grader_a(q18):\n",
        "  try:\n",
        "    cursor.execute(q18)\n",
        "    return True\n",
        "  except:\n",
        "    pass\n",
        "\n",
        "def q18_grader_b(q19):\n",
        "  result = pd.read_sql_query(q19, conn)\n",
        "  return result.columns.tolist() == ['id', 'name']\n",
        "\n",
        "q18b = \"\"\"SELECT * FROM students;\"\"\"\n",
        "\n",
        "print(q18_grader_a(q18a) and q18_grader_b(q18b))"
      ],
      "metadata": {
        "colab": {
          "base_uri": "https://localhost:8080/"
        },
        "id": "whuIWdc4OAzm",
        "outputId": "5e65f1d7-2bab-4d9a-ed6d-dd54f48cb74d"
      },
      "execution_count": 141,
      "outputs": [
        {
          "output_type": "stream",
          "name": "stdout",
          "text": [
            "True\n"
          ]
        }
      ]
    },
    {
      "cell_type": "markdown",
      "source": [
        "## 19. Write SQL query to insert the values (1, 'Alice') into students table"
      ],
      "metadata": {
        "id": "-hRir0DKPa9I"
      }
    },
    {
      "cell_type": "code",
      "source": [
        "q19_a = \"\"\"INSERT INTO students (id, name)\n",
        "VALUES (1, 'Alice')\"\"\""
      ],
      "metadata": {
        "id": "4x6gmopqq6s2"
      },
      "execution_count": 142,
      "outputs": []
    },
    {
      "cell_type": "code",
      "source": [
        "def q19_grader_a(q19_a):\n",
        "  try:\n",
        "    cursor.execute(q19_a)\n",
        "  except:\n",
        "    pass\n",
        "  return True\n",
        "\n",
        "def q19_grader_b(q19_b):\n",
        "  result = pd.read_sql_query(q19_b, conn)\n",
        "  return result.values.tolist() == [[1, 'Alice']]\n",
        "\n",
        "q19_b = \"SELECT * FROM students\"\n",
        "print(q19_grader_a(q19_a) and q19_grader_b(q19_b))"
      ],
      "metadata": {
        "colab": {
          "base_uri": "https://localhost:8080/"
        },
        "id": "Bwq8A_58qXS7",
        "outputId": "e60d9fe9-f899-410f-c331-4e0e04b88bec"
      },
      "execution_count": 143,
      "outputs": [
        {
          "output_type": "stream",
          "name": "stdout",
          "text": [
            "True\n"
          ]
        }
      ]
    },
    {
      "cell_type": "markdown",
      "source": [
        "## 20. Write SQL Query to add the following more information to students table\n",
        "\n",
        "| ID | Name    |\n",
        "|----|---------|\n",
        "| 2  | Bob     |\n",
        "| 3  | Charlie |"
      ],
      "metadata": {
        "id": "PuQ4VFtwSu6x"
      }
    },
    {
      "cell_type": "code",
      "source": [
        "q20 = \"\"\"INSERT INTO students (id, name)\n",
        "VALUES (2,'Bob'),\n",
        "       (3,'Charlie')\"\"\""
      ],
      "metadata": {
        "id": "mGQrZEhKqgMo"
      },
      "execution_count": 144,
      "outputs": []
    },
    {
      "cell_type": "code",
      "source": [
        "def q20_grader(q20):\n",
        "  try:\n",
        "    cursor.execute(q20)\n",
        "  except:\n",
        "    pass\n",
        "  return True\n",
        "\n",
        "def q20_grader_b(q20_b):\n",
        "  result = pd.read_sql_query(q20_b, conn)\n",
        "  return result.values.tolist() == [[1, 'Alice'], [2, 'Bob'], [3, 'Charlie']]\n",
        "\n",
        "print(q20_grader(q20) and q20_grader_b(q19_b))"
      ],
      "metadata": {
        "colab": {
          "base_uri": "https://localhost:8080/"
        },
        "id": "FRZxVn3xTAjk",
        "outputId": "fa3e3fbe-ea81-4ceb-87d3-514aa316b366"
      },
      "execution_count": 145,
      "outputs": [
        {
          "output_type": "stream",
          "name": "stdout",
          "text": [
            "True\n"
          ]
        }
      ]
    },
    {
      "cell_type": "code",
      "source": [
        "# conn.close()"
      ],
      "metadata": {
        "id": "qYNpS7UEhKc4"
      },
      "execution_count": null,
      "outputs": []
    },
    {
      "cell_type": "code",
      "source": [],
      "metadata": {
        "id": "53tIpYUusRVC"
      },
      "execution_count": null,
      "outputs": []
    }
  ]
}